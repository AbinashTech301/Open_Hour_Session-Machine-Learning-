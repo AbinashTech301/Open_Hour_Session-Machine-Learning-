{
 "cells": [
  {
   "cell_type": "markdown",
   "metadata": {},
   "source": [
    "### Sequential Data Types\n",
    "Sequences are one of th built in Data types. Python provides six sequential data types:\n",
    "1. Strings\n",
    "2. Byte Sequence\n",
    "3. Byte array\n",
    "4. Lists\n",
    "5. Tuples\n",
    "6. Range Objects"
   ]
  },
  {
   "cell_type": "markdown",
   "metadata": {},
   "source": [
    "### Lists\n",
    "1. Items have a definite order.\n",
    "2. Items can be accesed via indexing. Indexing can be positive or negative.\n",
    "3. Enclosed in Sqare Bracket.\n",
    "4. Can contains any data i.e. It can contain strings, integer or lists.\n",
    "5. Cann be of any size.\n",
    "6. Lists are mutable i.e. Size of lists can be changed anywhere in the program."
   ]
  },
  {
   "cell_type": "code",
   "execution_count": 2,
   "metadata": {},
   "outputs": [
    {
     "name": "stdout",
     "output_type": "stream",
     "text": [
      "['Ram', 'Shyam']\n",
      "Ram\n",
      "Shyam\n",
      "06, Kathmandu\n"
     ]
    }
   ],
   "source": [
    ">>> person = [[\"Ram\",\"Shyam\"],[\"06, Kathmandu\", \"12345\",\"Pokhara\"],\"07876-7876\"]\n",
    ">>> name = person[0]\n",
    ">>> print(name)\n",
    ">>> first_name = person[0][0]\n",
    ">>> print(first_name)\n",
    ">>> last_name = person[0][1]\n",
    ">>> print(last_name)\n",
    ">>> address = person[1]\n",
    ">>> street = person[1][0]\n",
    ">>> print(street)"
   ]
  },
  {
   "cell_type": "markdown",
   "metadata": {},
   "source": [
    "### Tuples\n",
    "1. Tuples are faster than lists.\n",
    "2. Tuples are immutable i.e. They cannot be changed where in the program.\n",
    "3. Tuples can be used as keys in dictionary while lists cannot.\n",
    "4. Tuples are ordered and can be accessed with indexing.\n",
    "5. Tuples are in enclosed in Parenthesis()."
   ]
  },
  {
   "cell_type": "code",
   "execution_count": 5,
   "metadata": {},
   "outputs": [
    {
     "name": "stdout",
     "output_type": "stream",
     "text": [
      "('can', 'be used as ', 'keys in dictionary')\n"
     ]
    }
   ],
   "source": [
    " t = (\"tuples\", \"are\", \"immutable\",(\"can\",\"be used as \", \"keys in dictionary\"))\n",
    "print (t[3])"
   ]
  },
  {
   "cell_type": "markdown",
   "metadata": {},
   "source": [
    "### Slicing\n",
    "Every time we want to get a part of list, we can use Slicing.\n",
    "#### Syntax\n",
    "                      s[begin: end: step]     \n",
    "                                            where s is any sequential data type."
   ]
  },
  {
   "cell_type": "code",
   "execution_count": 7,
   "metadata": {},
   "outputs": [
    {
     "name": "stdout",
     "output_type": "stream",
     "text": [
      "['Vienna', 'London', 'Paris']\n"
     ]
    }
   ],
   "source": [
    "cities = [\"Vienna\", \"London\", \"Paris\", \"Berlin\", \"Zurich\", \"Hamburg\"]\n",
    "first_three = cities[0:3]\n",
    "print(first_three)"
   ]
  },
  {
   "cell_type": "code",
   "execution_count": 8,
   "metadata": {},
   "outputs": [
    {
     "name": "stdout",
     "output_type": "stream",
     "text": [
      "Ph d n  e\n"
     ]
    }
   ],
   "source": [
    " str = \"Python under Linux is great\"\n",
    "print (str[::3])"
   ]
  },
  {
   "cell_type": "markdown",
   "metadata": {},
   "source": [
    "### Concatenation"
   ]
  },
  {
   "cell_type": "code",
   "execution_count": 9,
   "metadata": {},
   "outputs": [
    {
     "name": "stdout",
     "output_type": "stream",
     "text": [
      "['red', 'green', 'blue', 'black', 'white']\n"
     ]
    }
   ],
   "source": [
    "colours1 = [\"red\", \"green\",\"blue\"]\n",
    "colours2 = [\"black\", \"white\"]\n",
    "colours = colours1 + colours2\n",
    "print(colours)"
   ]
  },
  {
   "cell_type": "markdown",
   "metadata": {},
   "source": [
    "### Checking if an Element is Contained in List"
   ]
  },
  {
   "cell_type": "code",
   "execution_count": 15,
   "metadata": {},
   "outputs": [
    {
     "data": {
      "text/plain": [
       "True"
      ]
     },
     "execution_count": 15,
     "metadata": {},
     "output_type": "execute_result"
    }
   ],
   "source": [
    "abc = [\"a\",\"b\",\"c\",\"d\",\"e\"]\n",
    "\"a\" in abc"
   ]
  },
  {
   "cell_type": "code",
   "execution_count": 19,
   "metadata": {},
   "outputs": [
    {
     "data": {
      "text/plain": [
       "True"
      ]
     },
     "execution_count": 19,
     "metadata": {},
     "output_type": "execute_result"
    }
   ],
   "source": [
    "cad = [\"s\",\"a\",\"d\"]\n",
    "\"ae\" not in cad\n"
   ]
  },
  {
   "cell_type": "markdown",
   "metadata": {},
   "source": [
    "### Repetitions"
   ]
  },
  {
   "cell_type": "code",
   "execution_count": 20,
   "metadata": {},
   "outputs": [
    {
     "name": "stdout",
     "output_type": "stream",
     "text": [
      "xyz-xyz-xyz-\n",
      "['a', 'b', 'c', 'a', 'b', 'c', 'a', 'b', 'c']\n"
     ]
    }
   ],
   "source": [
    "a = 3 * \"xyz-\"\n",
    "print (a)\n",
    "b = 3 * [\"a\",\"b\",\"c\"]\n",
    "print (b)"
   ]
  },
  {
   "cell_type": "code",
   "execution_count": 22,
   "metadata": {},
   "outputs": [
    {
     "name": "stdout",
     "output_type": "stream",
     "text": [
      "[['a', 'b', 'c'], ['a', 'b', 'c'], ['a', 'b', 'c'], ['a', 'b', 'c']]\n",
      "\n",
      "\n",
      "[['p', 'b', 'c'], ['p', 'b', 'c'], ['p', 'b', 'c'], ['p', 'b', 'c']]\n"
     ]
    }
   ],
   "source": [
    "x = [\"a\",\"b\",\"c\"]\n",
    "y = [x] * 4\n",
    "print (y)\n",
    "print (\"\\n\")\n",
    "y[0][0] = \"p\"\n",
    "print (y)"
   ]
  },
  {
   "cell_type": "markdown",
   "metadata": {},
   "source": [
    "### POP and Append\n",
    "s.append(x) \n",
    "\n",
    "  This method appends an element to the end of the list \"s\".\n",
    "\n",
    "s.pop(i)\n",
    "\n",
    "'pop' returns the ith element of a list s. The element will be removed from the list as well."
   ]
  },
  {
   "cell_type": "code",
   "execution_count": 23,
   "metadata": {},
   "outputs": [
    {
     "name": "stdout",
     "output_type": "stream",
     "text": [
      "[3, 5, 7, 42]\n"
     ]
    }
   ],
   "source": [
    "lst = [3, 5, 7]\n",
    "lst.append(42)\n",
    "print (lst)"
   ]
  },
  {
   "cell_type": "code",
   "execution_count": 29,
   "metadata": {},
   "outputs": [
    {
     "name": "stdout",
     "output_type": "stream",
     "text": [
      "['Linz', 'Salzburg', 'Vienna']\n",
      "['Linz', 'Vienna']\n"
     ]
    }
   ],
   "source": [
    "cities = [\"Hamburg\", \"Linz\", \"Salzburg\", \"Vienna\"]\n",
    "cities.pop(0)\n",
    "print (cities)\n",
    "cities.pop(1)\n",
    "print (cities)"
   ]
  },
  {
   "cell_type": "code",
   "execution_count": 30,
   "metadata": {},
   "outputs": [
    {
     "data": {
      "text/plain": [
       "'Hamburg'"
      ]
     },
     "execution_count": 30,
     "metadata": {},
     "output_type": "execute_result"
    }
   ],
   "source": [
    "cities = [\"Hamburg\", \"Linz\", \"Salzburg\", \"Vienna\"]\n",
    "cities.pop(0)"
   ]
  },
  {
   "cell_type": "code",
   "execution_count": null,
   "metadata": {},
   "outputs": [],
   "source": []
  }
 ],
 "metadata": {
  "kernelspec": {
   "display_name": "Python 3",
   "language": "python",
   "name": "python3"
  },
  "language_info": {
   "codemirror_mode": {
    "name": "ipython",
    "version": 3
   },
   "file_extension": ".py",
   "mimetype": "text/x-python",
   "name": "python",
   "nbconvert_exporter": "python",
   "pygments_lexer": "ipython3",
   "version": "3.6.8"
  }
 },
 "nbformat": 4,
 "nbformat_minor": 2
}
